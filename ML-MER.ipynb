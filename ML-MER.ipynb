{
 "cells": [
  {
   "cell_type": "markdown",
   "metadata": {},
   "source": [
    "# Predict topics of Math Questions on the UBC Math Education Resources\n",
    "\n",
    "**URL**: http://www.math-education-resources.com"
   ]
  },
  {
   "cell_type": "markdown",
   "metadata": {},
   "source": [
    "We use simple machine learning algorithms and [scikit-learn](http://scikit-learn.org/stable/) to **predict the topics of Math Questions** from the [Math Education Resources](http://www.math-education-resources.com). For demonstration we will only consider two topics here, but the production Flask app is trained on a larger set and handles more topics."
   ]
  },
  {
   "cell_type": "markdown",
   "metadata": {},
   "source": [
    "## Data inspection"
   ]
  },
  {
   "cell_type": "markdown",
   "metadata": {},
   "source": [
    "#### The questions live in a MongoDB"
   ]
  },
  {
   "cell_type": "code",
   "execution_count": 1,
   "metadata": {
    "collapsed": true
   },
   "outputs": [],
   "source": [
    "import numpy as np\n",
    "import helpers\n",
    "from pymongo import MongoClient"
   ]
  },
  {
   "cell_type": "code",
   "execution_count": 2,
   "metadata": {
    "collapsed": false
   },
   "outputs": [
    {
     "name": "stdout",
     "output_type": "stream",
     "text": [
      "Total number of questions: 1928.\n",
      "(u'ID', u'UBC+MATH100+December_2013+01_(a)')\n",
      "(u'_id', ObjectId('55870669ceac4768093a511e'))\n",
      "(u'answer_html', u'<p><span class=\"math\">\\\\(\\\\lim_{x \\\\to -5} \\\\frac{x^2 + 2x - 15}{2x+10}={\\\\color{blue}-4}\\\\)</span></p>')\n",
      "(u'answer_latex', u' $\\\\lim_{x \\\\to -5} \\\\frac{x^2 + 2x - 15}{2x+10}={\\\\color{blue}-4}$ ')\n",
      "(u'contributors', [u'Konradbe', u'CarmenBruni'])\n",
      "(u'course', u'MATH100')\n",
      "(u'flags', [u'QGQ', u'QGH', u'QGS', u'QGT'])\n",
      "(u'hints_html', [u'<p>Try factoring the numerator, i.e., <span class=\"math\">\\\\(x^2 + 2x - 15\\\\)</span>.</p>'])\n",
      "(u'hints_latex', [u'Try factoring the numerator, i.e., $x^2 + 2x - 15$.'])\n",
      "(u'hints_raw', [u'Try factoring the numerator, i.e., &lt;math>x^2 + 2x - 15&lt;/math>.'])\n",
      "(u'is_multiple_choice', False)\n",
      "(u'num_votes', 10)\n",
      "(u'number', u'01_(a)')\n",
      "(u'number_human', u'1 (a)')\n",
      "(u'question', u'1 (a)')\n",
      "(u'rating', 5.0)\n",
      "(u'sols_html', [u'<p><span class=\"math\">\\\\[\\\\begin{aligned}\\n\\\\lim_{x \\\\to -5} \\\\frac{x^2 + 2x - 15}{2x+10} &amp;= \\\\lim_{x \\\\to -5} \\\\frac{(x-3)(x+5)}{2(x+5)}\\n\\\\\\\\ &amp;= \\\\lim_{x \\\\to -5} \\\\frac{x-3}{2}\\n\\\\\\\\ &amp;= \\\\frac{(-5)-3}{2}\\n\\\\\\\\ &amp;= {\\\\color{blue}-4}\\\\end{aligned}\\\\]</span></p>'])\n",
      "(u'sols_latex', [u'\\\\begin{align*}\\n\\\\lim_{x \\\\to -5} \\\\frac{x^2 + 2x - 15}{2x+10} &= \\\\lim_{x \\\\to -5} \\\\frac{(x-3)(x+5)}{2(x+5)}\\n\\\\\\\\ &= \\\\lim_{x \\\\to -5} \\\\frac{x-3}{2}\\n\\\\\\\\ &= \\\\frac{(-5)-3}{2}\\n\\\\\\\\ &= {\\\\color{blue}-4}\\n\\\\end{align*}'])\n",
      "(u'sols_raw', [u'&lt;math>\\n\\\\begin{align}\\n\\\\lim_{x \\\\to -5} \\\\frac{x^2 + 2x - 15}{2x+10} &amp;= \\\\lim_{x \\\\to -5} \\\\frac{(x-3)(x+5)}{2(x+5)}\\n\\\\\\\\ &amp;= \\\\lim_{x \\\\to -5} \\\\frac{x-3}{2}\\n\\\\\\\\ &amp;= \\\\frac{(-5)-3}{2}\\n\\\\\\\\ &amp;= {\\\\color{blue}-4}\\n\\\\end{align}\\n&lt;/math>'])\n",
      "(u'solvers', [u'NicholasHu'])\n",
      "(u'statement_html', u'<p><strong>Short-Answer Question. Simplify your answer as much as possible and show your work.</strong></p>\\n<p>Evaluate the limit</p>\\n<p><span class=\"math\">\\\\[\\\\begin{aligned}\\n\\\\lim_{x \\\\to -5} \\\\frac{x^2+2x-15}{2x+10}\\\\end{aligned}\\\\]</span></p>')\n",
      "(u'statement_latex', u'\\\\textbf{Short-Answer Question. Simplify your answer as much as possible\\nand show your work.}\\n\\nEvaluate the limit\\n\\n\\\\begin{align*}\\n\\\\lim_{x \\\\to -5} \\\\frac{x^2+2x-15}{2x+10}\\n\\\\end{align*}')\n",
      "(u'statement_raw', u\"'''Short-Answer Question. Simplify your answer as much as possible and show your work.'''\\n\\nEvaluate the limit\\n\\n:&lt;math>\\n\\\\lim_{x \\\\to -5} \\\\frac{x^2+2x-15}{2x+10}\\n&lt;/math>\")\n",
      "(u'term', u'December')\n",
      "(u'term_year', u'December_2013')\n",
      "(u'topics', [u'Limit_of_a_rational_function'])\n",
      "(u'url', u'http://wiki.ubc.ca/Science:Math_Exam_Resources/Courses/MATH100/December_2013/Question_01_(a)')\n",
      "(u'year', 2013)\n"
     ]
    }
   ],
   "source": [
    "client = MongoClient()\n",
    "questions_collection = client['merdb'].questions\n",
    "print(\"Total number of questions: %d.\" %questions_collection.count())\n",
    "select = {\"course\": \"MATH100\", \"year\": 2013, \"term\": \"December\", \"number\": \"01_(a)\"}\n",
    "for q in questions_collection.find(select):\n",
    "    for key in sorted(q.keys()):\n",
    "        print(key, q[key])"
   ]
  },
  {
   "cell_type": "markdown",
   "metadata": {},
   "source": [
    "#### For our analysis we focus on two topics"
   ]
  },
  {
   "cell_type": "code",
   "execution_count": 3,
   "metadata": {
    "collapsed": false
   },
   "outputs": [
    {
     "name": "stdout",
     "output_type": "stream",
     "text": [
      "TOTAL:\n",
      "## - Topic\n",
      "==========\n",
      "48 - Eigenvalues and eigenvectors\n",
      "41 - Probability density function\n"
     ]
    }
   ],
   "source": [
    "TOPIC0 = \"Probability_density_function\"\n",
    "TOPIC1 = \"Eigenvalues_and_eigenvectors\"\n",
    "topic_tags = [TOPIC0, TOPIC1]\n",
    "questions = helpers.get_questions_with_topics(topic_tags)\n",
    "topic_tags2 = []\n",
    "print('TOTAL:\\n## - Topic\\n==========')\n",
    "for topic, count in helpers.count_topics_in_questions(questions).iteritems():\n",
    "    if count > 10:\n",
    "        topic_tags2.append(topic)\n",
    "        print('%2d - %s' %(count, topic.replace('_', ' ')))\n",
    "topic_tags = topic_tags2"
   ]
  },
  {
   "cell_type": "markdown",
   "metadata": {},
   "source": [
    "Being in the *IPython Notebook* we can acutally even display them nicely."
   ]
  },
  {
   "cell_type": "code",
   "execution_count": 4,
   "metadata": {
    "collapsed": true
   },
   "outputs": [],
   "source": [
    "from IPython.display import HTML, Javascript, display\n",
    "def display_MER_question(q, right=True):\n",
    "    ''' A helper function to display questions in the notebook. '''\n",
    "    def base_html(title, body):\n",
    "        top = \"<div style='background: #AAFFAA; width: 40%;\"\n",
    "        left = \"position:absolute; left: 50%;\"\n",
    "        middle = \"</div><div style='display: inline-block; width: 40%;\"\n",
    "        end = \"</div>\"\n",
    "        if right:\n",
    "            return top + \"'>\" + title + middle + \"'>\" + body + end\n",
    "        else:\n",
    "            return top + left + \"'>\" + title + middle + left + \"'>\" + body  + end\n",
    "    topic = base_html('Topic', q['topics'][0])\n",
    "    statement = base_html('Statement', q['statement_html'])\n",
    "    hint = base_html('Hint', q['hints_html'][0])\n",
    "    sol = base_html('Solution', q['sols_html'][0])\n",
    "    display(HTML(data = base_html(q['topics'][0], (\"<h3>STATEMENT</h3>\" + q['statement_html'] +\n",
    "                                                   \"<h3>HINT</h3>\" + q['hints_html'][0] +\n",
    "                                                   \"<h3>SOLUTION</h3>\" + q['sols_html'][0]))))"
   ]
  },
  {
   "cell_type": "code",
   "execution_count": 5,
   "metadata": {
    "collapsed": false
   },
   "outputs": [
    {
     "data": {
      "text/html": [
       "<div style='background: #AAFFAA; width: 40%;position:absolute; left: 50%;'>Eigenvalues_and_eigenvectors</div><div style='display: inline-block; width: 40%;position:absolute; left: 50%;'><h3>STATEMENT</h3><p>Suppose that <em>A</em> is a symmetric 4x4 matrix with eigenvalues 0, 1, 4, 5. Define a sequence of vectors <span class=\"math\">\\(\\mathbf{x}_n \\in \\mathbb{R}^4\\)</span> by choosing <strong>x</strong><sub>0</sub> at random, and then settings</p>\n",
       "<p><span class=\"math\">\\[\\begin{aligned}\n",
       "\\mathbf{y}_n &amp;= (A-3I)^{-1}\\mathbf{x}_{n-1} \\\\\n",
       "\\mathbf{x}_n &amp;= \\mathbf{y}_n/\\|\\mathbf{y}_{n}\\|\\end{aligned}\\]</span></p>\n",
       "<p>for <em>n = 1, 2, ...</em>. You then observe that <strong>x</strong><sub>n</sub> converges to</p>\n",
       "<p><span class=\"math\">\\[\\begin{aligned}\n",
       "\\mathbf{x}_\\infty = [1/2, 1/2, 1/2, 1/2]^T\\end{aligned}\\]</span></p>\n",
       "<p>as <span class=\"math\">\\(n \\to \\infty\\)</span>.</p>\n",
       "<p><strong>(b)</strong> What is the value of the inner (dot) product <span class=\"math\">\\(\\langle \\mathbf{x}_\\infty, A\\mathbf{x}_\\infty\\rangle\\)</span>?</p><h3>HINT</h3><p>Recall that from <span>part (a)</span> that <span class=\"math\">\\(\\displaystyle A\\mathbf x_{\\infty} = 4\\mathbf x_{\\infty}\\)</span>.</p><h3>SOLUTION</h3><p>From part (a), we recall that <span class=\"math\">\\(\\displaystyle \\lambda = 4\\)</span> was the eigenvalue associated to the eigenvector <span class=\"math\">\\(\\displaystyle x_{\\infty}\\)</span>. We can use these to find the solution:</p>\n",
       "<p><span class=\"math\">\\[\\begin{aligned}\n",
       "Ax_{\\infty} &amp;= \\lambda x_{\\infty}\\\\\n",
       "Ax_{\\infty}\\cdot x_{\\infty} &amp;= \\lambda x_{\\infty}\\cdot x_{\\infty}\\\\\n",
       "Ax_{\\infty}\\cdot x_{\\infty} &amp;= 4(1)\\\\\n",
       "\\langle \\mathbf{x}_\\infty, A\\mathbf{x}_\\infty\\rangle &amp;= 4\\end{aligned}\\]</span></p></div>"
      ],
      "text/plain": [
       "<IPython.core.display.HTML object>"
      ]
     },
     "metadata": {},
     "output_type": "display_data"
    },
    {
     "data": {
      "text/html": [
       "<div style='background: #AAFFAA; width: 40%;'>Probability_density_function</div><div style='display: inline-block; width: 40%;'><h3>STATEMENT</h3><p>Seeds are dispersed from a tree in all directions uniformly. The density of seeds that lands on the ground at a distance <em>r</em> away is approximately described by the function</p>\n",
       "<p><span class=\"math\">\\[\\begin{aligned}\n",
       "s(r) = 50 \\sin\\left(\\frac{\\pi r}{10}\\right) \\text{ seeds/m}^2, \\quad 0 \\leq r \\leq 10 \\text{ m}\\end{aligned}\\]</span></p>\n",
       "<p>At what distance from the tree are the seeds most densely distributed?</p><h3>HINT</h3><p>The seeds are most densely distributed at the point where the function that describes the density has a maximum.</p><h3>SOLUTION</h3><p>Since we look for the maximum of <em>s</em>, we set its derivative to zero.</p>\n",
       "<p><span class=\"math\">\\[\\begin{aligned}\n",
       "0 = \\frac{d}{dr}50\\sin\\left(\\frac{\\pi r}{10}\\right) = 50\\frac{\\pi}{10}\\cos\\left(\\frac{\\pi r}{10}\\right),\\end{aligned}\\]</span></p>\n",
       "<p><span class=\"math\">\\[\\begin{aligned}\n",
       "\\cos\\left(\\frac{\\pi r}{10}\\right)=0,\\end{aligned}\\]</span></p>\n",
       "<p>Due to the restriction on <em>r</em> the only possible zero is when</p>\n",
       "<p><span class=\"math\">\\[\\begin{aligned}\n",
       "\\frac{\\pi r}{10} = \\frac{\\pi}{2}\\end{aligned}\\]</span></p>\n",
       "<p>which is attained at</p>\n",
       "<p><span class=\"math\">\\[\\begin{aligned}\n",
       "\\displaystyle r=5\\end{aligned}\\]</span></p>\n",
       "<p>Note that <span class=\"math\">\\(\\sin(\\pi(5)/10) = \\sin(\\pi/2) = 1\\)</span> gives indeed the maximum value for sine and hence for <em>s</em>.</p></div>"
      ],
      "text/plain": [
       "<IPython.core.display.HTML object>"
      ]
     },
     "metadata": {},
     "output_type": "display_data"
    }
   ],
   "source": [
    "display_MER_question(questions[2], right=False)\n",
    "display_MER_question(questions[51])"
   ]
  },
  {
   "cell_type": "markdown",
   "metadata": {},
   "source": [
    "## Prepare for machine learning algorithms"
   ]
  },
  {
   "cell_type": "markdown",
   "metadata": {},
   "source": [
    "#### Split into train and test set"
   ]
  },
  {
   "cell_type": "code",
   "execution_count": 6,
   "metadata": {
    "collapsed": false
   },
   "outputs": [
    {
     "name": "stdout",
     "output_type": "stream",
     "text": [
      "TRAIN/TEST:\n",
      "##/## - Topic\n",
      "=============\n",
      "35/13 - Eigenvalues and eigenvectors\n",
      "34/ 7 - Probability density function\n"
     ]
    }
   ],
   "source": [
    "np.random.seed(23)  # for reproducibility we set the seed of the random number generator\n",
    "m = 20\n",
    "test_indices = np.random.choice(range(len(questions)), m, replace=False)\n",
    "questions_train = [q for i, q in enumerate(questions) if not i in test_indices]\n",
    "questions_test = [q for i, q in enumerate(questions) if i in test_indices]\n",
    "print('TRAIN/TEST:\\n##/## - Topic\\n=============')\n",
    "for t in topic_tags:\n",
    "    print('%2d/%2d - %s' % (sum([1 for q in questions_train if t in q['topics']]),\n",
    "                          sum([1 for q in questions_test if t in q['topics']]),\n",
    "                          t.replace('_', ' ')))"
   ]
  },
  {
   "cell_type": "markdown",
   "metadata": {},
   "source": [
    "### Transforming text data to vectors\n",
    "\n",
    "To apply machine learning we have to transform the questions and topics (labels) into a vector representation.\n",
    "\n",
    "#### Identifying class labels\n",
    "\n",
    "Turning the topics into a vector is the easy part:\n",
    "\n",
    "**0 = Probability density function**\n",
    "\n",
    "**1 = Eigenvalues and eigenvectors**\n",
    "\n",
    "In the case of more than two classes use scikit-learns [label binarizer](http://scikit-learn.org/stable/modules/multiclass.html)."
   ]
  },
  {
   "cell_type": "code",
   "execution_count": 7,
   "metadata": {
    "collapsed": true
   },
   "outputs": [],
   "source": [
    "def questions_to_y(qs):\n",
    "    '''Return array or Booleans indicating whether the corresponding question is of TOPIC1'''\n",
    "    def topic_from_question(q):\n",
    "        return TOPIC1 in q['topics']\n",
    "    y = np.zeros(shape=(len(qs)))\n",
    "    for i, q in enumerate(qs):\n",
    "        y[i] = topic_from_question(q)\n",
    "    return y"
   ]
  },
  {
   "cell_type": "code",
   "execution_count": 8,
   "metadata": {
    "collapsed": true
   },
   "outputs": [],
   "source": [
    "y_train = questions_to_y(questions_train)\n",
    "y_test = questions_to_y(questions_test)\n",
    "assert y_train.shape[0] == len(questions_train)"
   ]
  },
  {
   "cell_type": "markdown",
   "metadata": {},
   "source": [
    "#### Manufactoring the feature vector\n",
    "\n",
    "Transforming the text of the question to a vector is more tricky. Our strategy is the following:\n",
    "\n",
    "1. Extract all words from a question (bag of words).\n",
    "2. Collapse plurals, tense, etc.\n",
    "3. Remove stopwords (they don't contain useful information).\n",
    "4. This leaves $n$ words in our corpus, each question will be a vector in $\\mathbb{R}^n$.\n",
    "5. Question vector is calculated by TF-IDF (leads to sparse vectors)\n"
   ]
  },
  {
   "cell_type": "markdown",
   "metadata": {},
   "source": [
    "#### Helpers from Natural Language Toolkit\n",
    "\n",
    "Python provides a [natural language toolkit](http://www.nltk.org/) with many useful functions."
   ]
  },
  {
   "cell_type": "code",
   "execution_count": 9,
   "metadata": {
    "collapsed": true
   },
   "outputs": [],
   "source": [
    "import helpers\n",
    "from nltk import PorterStemmer\n",
    "from nltk.corpus import stopwords"
   ]
  },
  {
   "cell_type": "code",
   "execution_count": 10,
   "metadata": {
    "collapsed": false
   },
   "outputs": [
    {
     "data": {
      "text/plain": [
       "['sensat', 'sensat', 'season', 'fli', 'fli', 'fli']"
      ]
     },
     "execution_count": 10,
     "metadata": {},
     "output_type": "execute_result"
    }
   ],
   "source": [
    "[PorterStemmer().stem_word(w) for w in ['sensation', 'sensational', 'seasonal', 'flying', 'flies', 'fly']]"
   ]
  },
  {
   "cell_type": "code",
   "execution_count": 11,
   "metadata": {
    "collapsed": false
   },
   "outputs": [
    {
     "data": {
      "text/plain": [
       "['i', 'me', 'my', 'myself', 'we', 'our', 'ours', 'ourselves', 'you', 'your']"
      ]
     },
     "execution_count": 11,
     "metadata": {},
     "output_type": "execute_result"
    }
   ],
   "source": [
    "stopwords.words('english')[:10]"
   ]
  },
  {
   "cell_type": "code",
   "execution_count": 12,
   "metadata": {
    "collapsed": false
   },
   "outputs": [
    {
     "name": "stdout",
     "output_type": "stream",
     "text": [
      "Using these techniques, the question above reads:\n",
      "seed dispers tree direct uniformli densiti seed land ground distanc away approxim describ function distanc tree seed dens distribut seed dens distribut point function describ densiti ha maximum sinc look maximum set deriv zero due restrict onli possibl zero attain note give inde maximum valu sine henc fraction sine cosin pi greater_than\n"
     ]
    }
   ],
   "source": [
    "print(\"Using these techniques, the question above reads:\\n%s\" %helpers.question_to_BOW(questions[51]))"
   ]
  },
  {
   "cell_type": "markdown",
   "metadata": {},
   "source": [
    "TF-IDF (term frequency inverse document frequency) counts the total frequency of each word (term) in the corpus, and then calculates the relative frequency of each word in each document. This way ubiquitos words get a smaller weight than rare words. TF-IDF does not account for *where* the words appear.\n",
    "\n",
    "Using the helper functions above we could write our own vectoriser, but again, scikit-learn has us covered."
   ]
  },
  {
   "cell_type": "code",
   "execution_count": 13,
   "metadata": {
    "collapsed": false
   },
   "outputs": [
    {
     "name": "stdout",
     "output_type": "stream",
     "text": [
      "  (0, 434)\t0.163989609452\n",
      "  (0, 409)\t0.0684264934708\n",
      "  (0, 405)\t0.131991372399\n",
      "  (0, 398)\t0.282444594921\n",
      "  (0, 346)\t0.237962228498\n",
      "  (0, 345)\t0.0673386860857\n",
      "  (0, 336)\t0.105970856098\n",
      "  (0, 333)\t0.564889189843\n",
      "  (0, 317)\t0.131991372399\n",
      "  (0, 285)\t0.105970856098\n",
      "  (0, 282)\t0.114034843661\n",
      "  (0, 278)\t0.0967399310369\n",
      "  (0, 264)\t0.0744987478251\n",
      "  (0, 254)\t0.0875090059757\n",
      "  (0, 224)\t0.102590127448\n",
      "  (0, 202)\t0.141222297461\n",
      "  (0, 178)\t0.141222297461\n",
      "  (0, 166)\t0.0642804450217\n",
      "  (0, 160)\t0.0684264934708\n",
      "  (0, 159)\t0.141222297461\n",
      "  (0, 158)\t0.0320872447232\n",
      "  (0, 153)\t0.0895798692975\n",
      "  (0, 149)\t0.11784027945\n",
      "  (0, 144)\t0.0557871902578\n",
      "  (0, 107)\t0.141222297461\n",
      "  (0, 100)\t0.183587320898\n",
      "  (0, 98)\t0.282444594921\n",
      "  (0, 97)\t0.141222297461\n",
      "  (0, 95)\t0.109750189188\n",
      "  (0, 88)\t0.263982744799\n",
      "  (0, 87)\t0.105970856098\n",
      "  (0, 86)\t0.119507243028\n",
      "  (0, 71)\t0.118981114249\n",
      "  (0, 28)\t0.12483131066\n",
      "  (0, 17)\t0.141222297461\n"
     ]
    },
    {
     "data": {
      "text/plain": [
       "<1x435 sparse matrix of type '<type 'numpy.float64'>'\n",
       "\twith 35 stored elements in Compressed Sparse Row format>"
      ]
     },
     "execution_count": 13,
     "metadata": {},
     "output_type": "execute_result"
    }
   ],
   "source": [
    "from sklearn.feature_extraction.text import TfidfVectorizer\n",
    "\n",
    "vectorizer = TfidfVectorizer(min_df=2)\n",
    "vectorizer.fit(helpers.questions_to_BOW(questions))\n",
    "print(vectorizer.transform([helpers.question_to_BOW(questions[51])]))\n",
    "vectorizer.transform([helpers.question_to_BOW(questions[51])])"
   ]
  },
  {
   "cell_type": "markdown",
   "metadata": {},
   "source": [
    "The rest is easy: Extract the text from each question and apply the vectorizer to obtain the feature vector of each question. Then concatenate these vectors to a matrix X."
   ]
  },
  {
   "cell_type": "code",
   "execution_count": 14,
   "metadata": {
    "collapsed": true
   },
   "outputs": [],
   "source": [
    "X_train = helpers.questions_to_X(questions_train)\n",
    "X_test = helpers.questions_to_X(questions_test)\n",
    "assert X_train.shape[0] == len(questions_train)"
   ]
  },
  {
   "cell_type": "markdown",
   "metadata": {},
   "source": [
    "### The classifier\n",
    "\n",
    "Scikit-learn has many classifiers to choose from, so we'll just take one off the shelf for now. We use a Support Vector Classifier because this performs best at the full dataset."
   ]
  },
  {
   "cell_type": "code",
   "execution_count": 15,
   "metadata": {
    "collapsed": false
   },
   "outputs": [],
   "source": [
    "from sklearn import svm\n",
    "\n",
    "classifier =svm.SVC(kernel='linear', probability = True, random_state=np.random.RandomState(0))\n",
    "trained_classifier = classifier.fit(X_train, y_train)"
   ]
  },
  {
   "cell_type": "markdown",
   "metadata": {},
   "source": [
    "That's it, the classifier is trained and can be used to predict the topic of a new question from the test set."
   ]
  },
  {
   "cell_type": "code",
   "execution_count": 16,
   "metadata": {
    "collapsed": false
   },
   "outputs": [
    {
     "name": "stdout",
     "output_type": "stream",
     "text": [
      "[[  7.34326245e-07   9.99999266e-01]\n",
      " [  2.57611375e-02   9.74238863e-01]\n",
      " [  4.83091746e-03   9.95169083e-01]\n",
      " [  4.10751854e-03   9.95892481e-01]\n",
      " [  8.94500612e-03   9.91054994e-01]\n",
      " [  5.57600593e-03   9.94423994e-01]\n",
      " [  3.35646796e-06   9.99996644e-01]\n",
      " [  4.10778820e-03   9.95892212e-01]\n",
      " [  1.39688570e-01   8.60311430e-01]\n",
      " [  9.86724050e-01   1.32759505e-02]\n",
      " [  9.88683208e-01   1.13167924e-02]\n",
      " [  9.87196084e-01   1.28039157e-02]\n",
      " [  9.92788110e-01   7.21189047e-03]\n",
      " [  9.57833590e-01   4.21664098e-02]\n",
      " [  9.85230569e-01   1.47694308e-02]\n",
      " [  9.31794975e-01   6.82050245e-02]\n",
      " [  5.13109520e-02   9.48689048e-01]\n",
      " [  2.50226207e-07   9.99999750e-01]\n",
      " [  1.83022756e-05   9.99981698e-01]\n",
      " [  9.36550252e-03   9.90634497e-01]]\n"
     ]
    }
   ],
   "source": [
    "preds = trained_classifier.predict_proba(X_test)\n",
    "print(preds)"
   ]
  },
  {
   "cell_type": "markdown",
   "metadata": {},
   "source": [
    "Each row is a question, and the probability that the classifier assigns this question to be in either of the classes. The left column is the confidence that this question is `TOPIC0`, the right column is that it is in `TOPIC1`. We see that the classifier is very confident in its predictions. So, how well did it do?"
   ]
  },
  {
   "cell_type": "code",
   "execution_count": 17,
   "metadata": {
    "collapsed": false
   },
   "outputs": [
    {
     "name": "stdout",
     "output_type": "stream",
     "text": [
      "Classifier score: 1.000000\n"
     ]
    }
   ],
   "source": [
    "print(\"Classifier score: %f\" %classifier.score(X_test, y_test))"
   ]
  },
  {
   "cell_type": "markdown",
   "metadata": {},
   "source": [
    "That is...surprisingly high! Let's explore this result a bit, by visualizing the features that this machine learning algorithm picked up on."
   ]
  },
  {
   "cell_type": "code",
   "execution_count": 18,
   "metadata": {
    "collapsed": false
   },
   "outputs": [
    {
     "name": "stdout",
     "output_type": "stream",
     "text": [
      "Most important words:\n",
      " 1.332, eigenvalu\n",
      " 1.330, matrix\n",
      "-1.063, probabl\n",
      " 0.928, eigenvector\n",
      "-0.835, function\n",
      "-0.769, integr\n",
      " 0.666, dimens\n",
      "-0.637, median\n",
      "-0.608, indic\n",
      "Least important words:\n",
      " 0.000, typic\n",
      " 0.000, good\n",
      " 0.000, via\n",
      " 0.000, wait\n",
      " 0.000, real\n",
      " 0.000, perpendicular\n",
      " 0.000, calculu\n",
      " 0.000, invers\n",
      " 0.000, quick\n",
      " 0.000, trivial\n"
     ]
    }
   ],
   "source": [
    "coef_vec = trained_classifier.coef_.toarray()[0, :]\n",
    "most_important_features = np.abs(coef_vec).argsort()[-1:-10:-1]\n",
    "least_important_features = np.abs(coef_vec).argsort()[:10]\n",
    "print('Most important words:')\n",
    "for ind in most_important_features:\n",
    "    print('%6.3f, %s' % (coef_vec[ind], vectorizer.get_feature_names()[ind]))\n",
    "print('Least important words:')\n",
    "for ind in least_important_features:\n",
    "    print('%6.3f, %s' % (coef_vec[ind], vectorizer.get_feature_names()[ind]))    "
   ]
  },
  {
   "cell_type": "markdown",
   "metadata": {},
   "source": [
    "Pretty sweet: The classifier learned that **matrix**, **eigenvalu** and **eigenvector** are really good indicators for an **Eigenvalues and eigenvectors** questions. On the other hand, **probabl**, **function** and **integr** indicate a question on **Probability density function**."
   ]
  },
  {
   "cell_type": "markdown",
   "metadata": {},
   "source": [
    "Good job on the features, but how is it possible to separate the classes with a linear classifier so perfectly? A useful way to visualize high-dimensional data is using [Principal Component Analysis](http://scikit-learn.org/stable/modules/generated/sklearn.decomposition.PCA.html) to project the data down to 3D. Of course, scikit-learn has you covered here as well."
   ]
  },
  {
   "cell_type": "code",
   "execution_count": 19,
   "metadata": {
    "collapsed": false
   },
   "outputs": [
    {
     "name": "stdout",
     "output_type": "stream",
     "text": [
      "The first 3 principal components explain 0.19 of the variance in the dataset.\n"
     ]
    }
   ],
   "source": [
    "import matplotlib.pyplot as plt\n",
    "%matplotlib inline\n",
    "from sklearn.decomposition import PCA\n",
    "from mpl_toolkits.mplot3d import Axes3D\n",
    "\n",
    "pca = PCA(n_components=3)\n",
    "pca.fit(X_train.toarray())\n",
    "pca_X_train = pca.transform(X_train.toarray())\n",
    "pca_X_test = pca.transform(X_test.toarray())\n",
    "print('The first 3 principal components explain %.2f of the variance in the dataset.' % sum(pca.explained_variance_ratio_))"
   ]
  },
  {
   "cell_type": "code",
   "execution_count": 20,
   "metadata": {
    "collapsed": false
   },
   "outputs": [
    {
     "data": {
      "image/png": "[encoded data removed]",
      "text/plain": [
       "<matplotlib.figure.Figure at 0x7f4290eb7350>"
      ]
     },
     "metadata": {},
     "output_type": "display_data"
    }
   ],
   "source": [
    "labels_train = [TOPIC1 if _ else TOPIC0 for _ in y_train]\n",
    "labels_test = [TOPIC1 if _ else TOPIC0 for _ in y_test]\n",
    "fig = plt.figure(1, figsize=(8, 6))\n",
    "plt.clf()\n",
    "ax = Axes3D(fig, rect=[0, 0, .95, 1], elev=25, azim=70)\n",
    "for c, i, label in zip('rgb', [0, 1], labels_train):\n",
    "    ax.scatter(pca_X_train[y_train == i, 0],\n",
    "               pca_X_train[y_train == i, 1],\n",
    "               pca_X_train[y_train == i, 2],\n",
    "               c=c, label=label)\n",
    "for c, i, label in zip('rgb', [0, 1], [l + ' (test)' for l in labels_test]):\n",
    "    ax.scatter(pca_X_test[y_test == i, 0],\n",
    "               pca_X_test[y_test == i, 1],\n",
    "               pca_X_test[y_test == i, 2],\n",
    "               c=c, label=label, marker='x')\n",
    "plt.show()"
   ]
  },
  {
   "cell_type": "markdown",
   "metadata": {},
   "source": [
    "We see a clear separation between the two classes (red and green) in the training as well as in the test set (dots and crosses)."
   ]
  },
  {
   "cell_type": "markdown",
   "metadata": {},
   "source": [
    "## Conclusion"
   ]
  },
  {
   "cell_type": "markdown",
   "metadata": {},
   "source": [
    "When restricting to two topics we were able to predict the correct topic for each question in the test set. This approach can now be generalized to all topics on the Math Education Resources, and machine learning can therefore be used to predict the topic of any question on the website.\n",
    "\n",
    "This serves two purposes:\n",
    "\n",
    "1. Help contributors label questions by suggesting sensible topics or label automatically.\n",
    "2. Help learners find similar questions on related topics, even if the topic label is missing.\n",
    "\n",
    "In the future we plan to incorporate other data to build a full question-recommendation algorithm that takes the course and difficulty into account."
   ]
  },
  {
   "cell_type": "code",
   "execution_count": null,
   "metadata": {
    "collapsed": true
   },
   "outputs": [],
   "source": []
  }
 ],
 "metadata": {
  "kernelspec": {
   "display_name": "Python 2",
   "language": "python",
   "name": "python2"
  },
  "language_info": {
   "codemirror_mode": {
    "name": "ipython",
    "version": 2
   },
   "file_extension": ".py",
   "mimetype": "text/x-python",
   "name": "python",
   "nbconvert_exporter": "python",
   "pygments_lexer": "ipython2",
   "version": "2.7.9"
  }
 },
 "nbformat": 4,
 "nbformat_minor": 0
}
